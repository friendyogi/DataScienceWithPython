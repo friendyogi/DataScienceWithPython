{
 "cells": [
  {
   "cell_type": "markdown",
   "metadata": {},
   "source": [
    "# Assignment 1 - Question 5 - Group 41\n",
    "# SuperMarket Sales Analytics\n",
    "---\n",
    "* <font color='Purple'><b>Yogesh Vaishnav</b></font>\n",
    "* 2020ht66501@wilp.bits-pilani.ac.in\n",
    "* <font color='green'>M.Tech - Computing Systems & Infrastructure</font>\n",
    "* <font color='green'>Date of submission: Saturday, 30th April 2022</font>\n",
    "---"
   ]
  },
  {
   "cell_type": "markdown",
   "metadata": {},
   "source": [
    "# Prerequisite"
   ]
  },
  {
   "cell_type": "markdown",
   "metadata": {},
   "source": [
    "#### Install python packages"
   ]
  },
  {
   "cell_type": "code",
   "execution_count": 1,
   "metadata": {},
   "outputs": [
    {
     "name": "stdout",
     "output_type": "stream",
     "text": [
      "Defaulting to user installation because normal site-packages is not writeable\n",
      "Requirement already satisfied: pandas in /Users/yvaishnav/Library/Python/3.8/lib/python/site-packages (1.4.2)\n",
      "Requirement already satisfied: numpy in /Users/yvaishnav/Library/Python/3.8/lib/python/site-packages (1.22.3)\n",
      "Requirement already satisfied: matplotlib in /Users/yvaishnav/Library/Python/3.8/lib/python/site-packages (3.5.1)\n",
      "Requirement already satisfied: seaborn in /Users/yvaishnav/Library/Python/3.8/lib/python/site-packages (0.11.2)\n",
      "Requirement already satisfied: jupyter_contrib_nbextensions in /Users/yvaishnav/Library/Python/3.8/lib/python/site-packages (0.5.1)\n",
      "Requirement already satisfied: python-dateutil>=2.8.1 in /Library/Python/3.8/site-packages (from pandas) (2.8.2)\n",
      "Requirement already satisfied: pytz>=2020.1 in /Users/yvaishnav/Library/Python/3.8/lib/python/site-packages (from pandas) (2022.1)\n",
      "Requirement already satisfied: kiwisolver>=1.0.1 in /Users/yvaishnav/Library/Python/3.8/lib/python/site-packages (from matplotlib) (1.4.2)\n",
      "Requirement already satisfied: pyparsing>=2.2.1 in /Users/yvaishnav/Library/Python/3.8/lib/python/site-packages (from matplotlib) (3.0.8)\n",
      "Requirement already satisfied: packaging>=20.0 in /Users/yvaishnav/Library/Python/3.8/lib/python/site-packages (from matplotlib) (21.3)\n",
      "Requirement already satisfied: pillow>=6.2.0 in /Users/yvaishnav/Library/Python/3.8/lib/python/site-packages (from matplotlib) (9.1.0)\n",
      "Requirement already satisfied: fonttools>=4.22.0 in /Users/yvaishnav/Library/Python/3.8/lib/python/site-packages (from matplotlib) (4.32.0)\n",
      "Requirement already satisfied: cycler>=0.10 in /Users/yvaishnav/Library/Python/3.8/lib/python/site-packages (from matplotlib) (0.11.0)\n",
      "Requirement already satisfied: scipy>=1.0 in /Users/yvaishnav/Library/Python/3.8/lib/python/site-packages (from seaborn) (1.8.0)\n",
      "Requirement already satisfied: jupyter-latex-envs>=1.3.8 in /Users/yvaishnav/Library/Python/3.8/lib/python/site-packages (from jupyter_contrib_nbextensions) (1.4.6)\n",
      "Requirement already satisfied: nbconvert>=4.2 in /Users/yvaishnav/Library/Python/3.8/lib/python/site-packages (from jupyter_contrib_nbextensions) (6.5.0)\n",
      "Requirement already satisfied: pyyaml in /Users/yvaishnav/Library/Python/3.8/lib/python/site-packages (from jupyter_contrib_nbextensions) (6.0)\n",
      "Requirement already satisfied: jupyter-highlight-selected-word>=0.1.1 in /Users/yvaishnav/Library/Python/3.8/lib/python/site-packages (from jupyter_contrib_nbextensions) (0.2.0)\n",
      "Requirement already satisfied: jupyter-contrib-core>=0.3.3 in /Users/yvaishnav/Library/Python/3.8/lib/python/site-packages (from jupyter_contrib_nbextensions) (0.3.3)\n",
      "Requirement already satisfied: jupyter-core in /Users/yvaishnav/Library/Python/3.8/lib/python/site-packages (from jupyter_contrib_nbextensions) (4.9.2)\n",
      "Requirement already satisfied: lxml in /Users/yvaishnav/Library/Python/3.8/lib/python/site-packages (from jupyter_contrib_nbextensions) (4.8.0)\n",
      "Requirement already satisfied: notebook>=4.0 in /Users/yvaishnav/Library/Python/3.8/lib/python/site-packages (from jupyter_contrib_nbextensions) (6.4.10)\n",
      "Requirement already satisfied: traitlets>=4.1 in /Users/yvaishnav/Library/Python/3.8/lib/python/site-packages (from jupyter_contrib_nbextensions) (5.1.1)\n",
      "Requirement already satisfied: tornado in /Users/yvaishnav/Library/Python/3.8/lib/python/site-packages (from jupyter_contrib_nbextensions) (6.1)\n",
      "Requirement already satisfied: ipython-genutils in /Users/yvaishnav/Library/Python/3.8/lib/python/site-packages (from jupyter_contrib_nbextensions) (0.2.0)\n",
      "Requirement already satisfied: jupyter-nbextensions-configurator>=0.4.0 in /Users/yvaishnav/Library/Python/3.8/lib/python/site-packages (from jupyter_contrib_nbextensions) (0.4.1)\n",
      "Requirement already satisfied: setuptools in /Library/Developer/CommandLineTools/Library/Frameworks/Python3.framework/Versions/3.8/lib/python3.8/site-packages (from jupyter-contrib-core>=0.3.3->jupyter_contrib_nbextensions) (41.2.0)\n",
      "Requirement already satisfied: ipython in /Users/yvaishnav/Library/Python/3.8/lib/python/site-packages (from jupyter-latex-envs>=1.3.8->jupyter_contrib_nbextensions) (8.2.0)\n",
      "Requirement already satisfied: mistune<2,>=0.8.1 in /Users/yvaishnav/Library/Python/3.8/lib/python/site-packages (from nbconvert>=4.2->jupyter_contrib_nbextensions) (0.8.4)\n",
      "Requirement already satisfied: beautifulsoup4 in /Users/yvaishnav/Library/Python/3.8/lib/python/site-packages (from nbconvert>=4.2->jupyter_contrib_nbextensions) (4.11.1)\n",
      "Requirement already satisfied: entrypoints>=0.2.2 in /Users/yvaishnav/Library/Python/3.8/lib/python/site-packages (from nbconvert>=4.2->jupyter_contrib_nbextensions) (0.4)\n",
      "Requirement already satisfied: bleach in /Users/yvaishnav/Library/Python/3.8/lib/python/site-packages (from nbconvert>=4.2->jupyter_contrib_nbextensions) (5.0.0)\n",
      "Requirement already satisfied: tinycss2 in /Users/yvaishnav/Library/Python/3.8/lib/python/site-packages (from nbconvert>=4.2->jupyter_contrib_nbextensions) (1.1.1)\n",
      "Requirement already satisfied: jupyterlab-pygments in /Users/yvaishnav/Library/Python/3.8/lib/python/site-packages (from nbconvert>=4.2->jupyter_contrib_nbextensions) (0.2.2)\n",
      "Requirement already satisfied: nbformat>=5.1 in /Users/yvaishnav/Library/Python/3.8/lib/python/site-packages (from nbconvert>=4.2->jupyter_contrib_nbextensions) (5.3.0)\n",
      "Requirement already satisfied: nbclient>=0.5.0 in /Users/yvaishnav/Library/Python/3.8/lib/python/site-packages (from nbconvert>=4.2->jupyter_contrib_nbextensions) (0.6.0)\n",
      "Requirement already satisfied: MarkupSafe>=2.0 in /Users/yvaishnav/Library/Python/3.8/lib/python/site-packages (from nbconvert>=4.2->jupyter_contrib_nbextensions) (2.1.1)\n",
      "Requirement already satisfied: defusedxml in /Users/yvaishnav/Library/Python/3.8/lib/python/site-packages (from nbconvert>=4.2->jupyter_contrib_nbextensions) (0.7.1)\n",
      "Requirement already satisfied: pandocfilters>=1.4.1 in /Users/yvaishnav/Library/Python/3.8/lib/python/site-packages (from nbconvert>=4.2->jupyter_contrib_nbextensions) (1.5.0)\n",
      "Requirement already satisfied: pygments>=2.4.1 in /Users/yvaishnav/Library/Python/3.8/lib/python/site-packages (from nbconvert>=4.2->jupyter_contrib_nbextensions) (2.11.2)\n",
      "Requirement already satisfied: jinja2>=3.0 in /Users/yvaishnav/Library/Python/3.8/lib/python/site-packages (from nbconvert>=4.2->jupyter_contrib_nbextensions) (3.1.1)\n",
      "Requirement already satisfied: ipykernel in /Users/yvaishnav/Library/Python/3.8/lib/python/site-packages (from notebook>=4.0->jupyter_contrib_nbextensions) (6.13.0)\n",
      "Requirement already satisfied: argon2-cffi in /Users/yvaishnav/Library/Python/3.8/lib/python/site-packages (from notebook>=4.0->jupyter_contrib_nbextensions) (21.3.0)\n",
      "Requirement already satisfied: prometheus-client in /Users/yvaishnav/Library/Python/3.8/lib/python/site-packages (from notebook>=4.0->jupyter_contrib_nbextensions) (0.14.1)\n",
      "Requirement already satisfied: terminado>=0.8.3 in /Users/yvaishnav/Library/Python/3.8/lib/python/site-packages (from notebook>=4.0->jupyter_contrib_nbextensions) (0.13.3)\n",
      "Requirement already satisfied: jupyter-client>=5.3.4 in /Users/yvaishnav/Library/Python/3.8/lib/python/site-packages (from notebook>=4.0->jupyter_contrib_nbextensions) (7.2.2)\n",
      "Requirement already satisfied: pyzmq>=17 in /Users/yvaishnav/Library/Python/3.8/lib/python/site-packages (from notebook>=4.0->jupyter_contrib_nbextensions) (22.3.0)\n",
      "Requirement already satisfied: nest-asyncio>=1.5 in /Users/yvaishnav/Library/Python/3.8/lib/python/site-packages (from notebook>=4.0->jupyter_contrib_nbextensions) (1.5.5)\n",
      "Requirement already satisfied: Send2Trash>=1.8.0 in /Users/yvaishnav/Library/Python/3.8/lib/python/site-packages (from notebook>=4.0->jupyter_contrib_nbextensions) (1.8.0)\n",
      "Requirement already satisfied: six>=1.5 in /Library/Developer/CommandLineTools/Library/Frameworks/Python3.framework/Versions/3.8/lib/python3.8/site-packages (from python-dateutil>=2.8.1->pandas) (1.15.0)\n",
      "Requirement already satisfied: fastjsonschema in /Users/yvaishnav/Library/Python/3.8/lib/python/site-packages (from nbformat>=5.1->nbconvert>=4.2->jupyter_contrib_nbextensions) (2.15.3)\n",
      "Requirement already satisfied: jsonschema>=2.6 in /Users/yvaishnav/Library/Python/3.8/lib/python/site-packages (from nbformat>=5.1->nbconvert>=4.2->jupyter_contrib_nbextensions) (4.4.0)\n"
     ]
    },
    {
     "name": "stdout",
     "output_type": "stream",
     "text": [
      "Requirement already satisfied: ptyprocess in /Users/yvaishnav/Library/Python/3.8/lib/python/site-packages (from terminado>=0.8.3->notebook>=4.0->jupyter_contrib_nbextensions) (0.7.0)\n",
      "Requirement already satisfied: argon2-cffi-bindings in /Users/yvaishnav/Library/Python/3.8/lib/python/site-packages (from argon2-cffi->notebook>=4.0->jupyter_contrib_nbextensions) (21.2.0)\n",
      "Requirement already satisfied: soupsieve>1.2 in /Users/yvaishnav/Library/Python/3.8/lib/python/site-packages (from beautifulsoup4->nbconvert>=4.2->jupyter_contrib_nbextensions) (2.3.2.post1)\n",
      "Requirement already satisfied: webencodings in /Users/yvaishnav/Library/Python/3.8/lib/python/site-packages (from bleach->nbconvert>=4.2->jupyter_contrib_nbextensions) (0.5.1)\n",
      "Requirement already satisfied: appnope in /Users/yvaishnav/Library/Python/3.8/lib/python/site-packages (from ipykernel->notebook>=4.0->jupyter_contrib_nbextensions) (0.1.3)\n",
      "Requirement already satisfied: psutil in /Users/yvaishnav/Library/Python/3.8/lib/python/site-packages (from ipykernel->notebook>=4.0->jupyter_contrib_nbextensions) (5.9.0)\n",
      "Requirement already satisfied: debugpy>=1.0 in /Users/yvaishnav/Library/Python/3.8/lib/python/site-packages (from ipykernel->notebook>=4.0->jupyter_contrib_nbextensions) (1.6.0)\n",
      "Requirement already satisfied: matplotlib-inline>=0.1 in /Users/yvaishnav/Library/Python/3.8/lib/python/site-packages (from ipykernel->notebook>=4.0->jupyter_contrib_nbextensions) (0.1.3)\n",
      "Requirement already satisfied: jedi>=0.16 in /Users/yvaishnav/Library/Python/3.8/lib/python/site-packages (from ipython->jupyter-latex-envs>=1.3.8->jupyter_contrib_nbextensions) (0.18.1)\n",
      "Requirement already satisfied: prompt-toolkit!=3.0.0,!=3.0.1,<3.1.0,>=2.0.0 in /Users/yvaishnav/Library/Python/3.8/lib/python/site-packages (from ipython->jupyter-latex-envs>=1.3.8->jupyter_contrib_nbextensions) (3.0.29)\n",
      "Requirement already satisfied: decorator in /Users/yvaishnav/Library/Python/3.8/lib/python/site-packages (from ipython->jupyter-latex-envs>=1.3.8->jupyter_contrib_nbextensions) (5.1.1)\n",
      "Requirement already satisfied: backcall in /Users/yvaishnav/Library/Python/3.8/lib/python/site-packages (from ipython->jupyter-latex-envs>=1.3.8->jupyter_contrib_nbextensions) (0.2.0)\n",
      "Requirement already satisfied: pexpect>4.3 in /Users/yvaishnav/Library/Python/3.8/lib/python/site-packages (from ipython->jupyter-latex-envs>=1.3.8->jupyter_contrib_nbextensions) (4.8.0)\n",
      "Requirement already satisfied: pickleshare in /Users/yvaishnav/Library/Python/3.8/lib/python/site-packages (from ipython->jupyter-latex-envs>=1.3.8->jupyter_contrib_nbextensions) (0.7.5)\n",
      "Requirement already satisfied: stack-data in /Users/yvaishnav/Library/Python/3.8/lib/python/site-packages (from ipython->jupyter-latex-envs>=1.3.8->jupyter_contrib_nbextensions) (0.2.0)\n",
      "Requirement already satisfied: parso<0.9.0,>=0.8.0 in /Users/yvaishnav/Library/Python/3.8/lib/python/site-packages (from jedi>=0.16->ipython->jupyter-latex-envs>=1.3.8->jupyter_contrib_nbextensions) (0.8.3)\n",
      "Requirement already satisfied: attrs>=17.4.0 in /Users/yvaishnav/Library/Python/3.8/lib/python/site-packages (from jsonschema>=2.6->nbformat>=5.1->nbconvert>=4.2->jupyter_contrib_nbextensions) (21.4.0)\n",
      "Requirement already satisfied: importlib-resources>=1.4.0 in /Users/yvaishnav/Library/Python/3.8/lib/python/site-packages (from jsonschema>=2.6->nbformat>=5.1->nbconvert>=4.2->jupyter_contrib_nbextensions) (5.7.0)\n",
      "Requirement already satisfied: pyrsistent!=0.17.0,!=0.17.1,!=0.17.2,>=0.14.0 in /Users/yvaishnav/Library/Python/3.8/lib/python/site-packages (from jsonschema>=2.6->nbformat>=5.1->nbconvert>=4.2->jupyter_contrib_nbextensions) (0.18.1)\n",
      "Requirement already satisfied: wcwidth in /Users/yvaishnav/Library/Python/3.8/lib/python/site-packages (from prompt-toolkit!=3.0.0,!=3.0.1,<3.1.0,>=2.0.0->ipython->jupyter-latex-envs>=1.3.8->jupyter_contrib_nbextensions) (0.2.5)\n",
      "Requirement already satisfied: cffi>=1.0.1 in /Library/Python/3.8/site-packages (from argon2-cffi-bindings->argon2-cffi->notebook>=4.0->jupyter_contrib_nbextensions) (1.14.6)\n",
      "Requirement already satisfied: executing in /Users/yvaishnav/Library/Python/3.8/lib/python/site-packages (from stack-data->ipython->jupyter-latex-envs>=1.3.8->jupyter_contrib_nbextensions) (0.8.3)\n",
      "Requirement already satisfied: pure-eval in /Users/yvaishnav/Library/Python/3.8/lib/python/site-packages (from stack-data->ipython->jupyter-latex-envs>=1.3.8->jupyter_contrib_nbextensions) (0.2.2)\n",
      "Requirement already satisfied: asttokens in /Users/yvaishnav/Library/Python/3.8/lib/python/site-packages (from stack-data->ipython->jupyter-latex-envs>=1.3.8->jupyter_contrib_nbextensions) (2.0.5)\n",
      "Requirement already satisfied: pycparser in /Library/Python/3.8/site-packages (from cffi>=1.0.1->argon2-cffi-bindings->argon2-cffi->notebook>=4.0->jupyter_contrib_nbextensions) (2.20)\n",
      "Requirement already satisfied: zipp>=3.1.0 in /Users/yvaishnav/Library/Python/3.8/lib/python/site-packages (from importlib-resources>=1.4.0->jsonschema>=2.6->nbformat>=5.1->nbconvert>=4.2->jupyter_contrib_nbextensions) (3.8.0)\n",
      "\u001b[33mWARNING: You are using pip version 21.3.1; however, version 22.0.4 is available.\n",
      "You should consider upgrading via the '/Library/Developer/CommandLineTools/usr/bin/python3 -m pip install --upgrade pip' command.\u001b[0m\n",
      "Note: you may need to restart the kernel to use updated packages.\n"
     ]
    }
   ],
   "source": [
    "pip install pandas numpy matplotlib seaborn jupyter_contrib_nbextensions"
   ]
  },
  {
   "cell_type": "code",
   "execution_count": 2,
   "metadata": {
    "_cell_guid": "79c7e3d0-c299-4dcb-8224-4455121ee9b0",
    "_uuid": "d629ff2d2480ee46fbb7e2d37f6b5fab8052498a"
   },
   "outputs": [],
   "source": [
    "# import required libraries\n",
    "\n",
    "import numpy as np # for linear algebra\n",
    "import pandas as pd # for data processing like read_csv\n",
    "\n",
    "import matplotlib.pyplot as plt; # for cool visualizations\n",
    "import seaborn as sns; # for cool visualizations"
   ]
  },
  {
   "cell_type": "markdown",
   "metadata": {},
   "source": [
    "# Data Extraction"
   ]
  },
  {
   "cell_type": "markdown",
   "metadata": {},
   "source": [
    "prerequisite is to keep the CSV file in the same folder as ipynb and read it using Pandas"
   ]
  },
  {
   "cell_type": "code",
   "execution_count": 3,
   "metadata": {},
   "outputs": [],
   "source": [
    "data = pd.read_csv('./Supermarket_Sales_Dataset.csv')"
   ]
  },
  {
   "cell_type": "markdown",
   "metadata": {},
   "source": [
    "# Exploratory Data Analysis"
   ]
  },
  {
   "cell_type": "markdown",
   "metadata": {},
   "source": [
    "displaying number of rows and column "
   ]
  },
  {
   "cell_type": "code",
   "execution_count": 4,
   "metadata": {},
   "outputs": [
    {
     "data": {
      "text/plain": [
       "(1000, 16)"
      ]
     },
     "execution_count": 4,
     "metadata": {},
     "output_type": "execute_result"
    }
   ],
   "source": [
    "data.shape"
   ]
  },
  {
   "cell_type": "markdown",
   "metadata": {},
   "source": [
    "Examining the first 10 records"
   ]
  },
  {
   "cell_type": "code",
   "execution_count": 5,
   "metadata": {},
   "outputs": [
    {
     "data": {
      "text/html": [
       "<div>\n",
       "<style scoped>\n",
       "    .dataframe tbody tr th:only-of-type {\n",
       "        vertical-align: middle;\n",
       "    }\n",
       "\n",
       "    .dataframe tbody tr th {\n",
       "        vertical-align: top;\n",
       "    }\n",
       "\n",
       "    .dataframe thead th {\n",
       "        text-align: right;\n",
       "    }\n",
       "</style>\n",
       "<table border=\"1\" class=\"dataframe\">\n",
       "  <thead>\n",
       "    <tr style=\"text-align: right;\">\n",
       "      <th></th>\n",
       "      <th>Invoice ID</th>\n",
       "      <th>Branch</th>\n",
       "      <th>City</th>\n",
       "      <th>Customer Type</th>\n",
       "      <th>Gender</th>\n",
       "      <th>Product Type</th>\n",
       "      <th>Unit Price</th>\n",
       "      <th>Quantity</th>\n",
       "      <th>Tax</th>\n",
       "      <th>Selling Price</th>\n",
       "      <th>Date</th>\n",
       "      <th>Time</th>\n",
       "      <th>Payment Type</th>\n",
       "      <th>Cost Price</th>\n",
       "      <th>Gross Income</th>\n",
       "      <th>Rating</th>\n",
       "    </tr>\n",
       "  </thead>\n",
       "  <tbody>\n",
       "    <tr>\n",
       "      <th>0</th>\n",
       "      <td>750-67-8428</td>\n",
       "      <td>A</td>\n",
       "      <td>Bangalore</td>\n",
       "      <td>Member</td>\n",
       "      <td>Female</td>\n",
       "      <td>Health and beauty</td>\n",
       "      <td>74.69</td>\n",
       "      <td>7</td>\n",
       "      <td>26.1415</td>\n",
       "      <td>548.9715</td>\n",
       "      <td>1/5/2019</td>\n",
       "      <td>13:08</td>\n",
       "      <td>Debit card</td>\n",
       "      <td>522.83</td>\n",
       "      <td>26.1415</td>\n",
       "      <td>9.1</td>\n",
       "    </tr>\n",
       "    <tr>\n",
       "      <th>1</th>\n",
       "      <td>226-31-3081</td>\n",
       "      <td>C</td>\n",
       "      <td>Mysore</td>\n",
       "      <td>Normal</td>\n",
       "      <td>Female</td>\n",
       "      <td>Electronic accessories</td>\n",
       "      <td>15.28</td>\n",
       "      <td>5</td>\n",
       "      <td>3.8200</td>\n",
       "      <td>80.2200</td>\n",
       "      <td>3/8/2019</td>\n",
       "      <td>10:29</td>\n",
       "      <td>Cash</td>\n",
       "      <td>76.40</td>\n",
       "      <td>3.8200</td>\n",
       "      <td>9.6</td>\n",
       "    </tr>\n",
       "    <tr>\n",
       "      <th>2</th>\n",
       "      <td>631-41-3108</td>\n",
       "      <td>A</td>\n",
       "      <td>Bangalore</td>\n",
       "      <td>Normal</td>\n",
       "      <td>Male</td>\n",
       "      <td>Home and lifestyle</td>\n",
       "      <td>46.33</td>\n",
       "      <td>7</td>\n",
       "      <td>16.2155</td>\n",
       "      <td>340.5255</td>\n",
       "      <td>3/3/2019</td>\n",
       "      <td>13:23</td>\n",
       "      <td>Credit card</td>\n",
       "      <td>324.31</td>\n",
       "      <td>16.2155</td>\n",
       "      <td>7.4</td>\n",
       "    </tr>\n",
       "    <tr>\n",
       "      <th>3</th>\n",
       "      <td>123-19-1176</td>\n",
       "      <td>A</td>\n",
       "      <td>Bangalore</td>\n",
       "      <td>Member</td>\n",
       "      <td>Male</td>\n",
       "      <td>Health and beauty</td>\n",
       "      <td>58.22</td>\n",
       "      <td>8</td>\n",
       "      <td>23.2880</td>\n",
       "      <td>489.0480</td>\n",
       "      <td>1/27/2019</td>\n",
       "      <td>20:33</td>\n",
       "      <td>Debit card</td>\n",
       "      <td>465.76</td>\n",
       "      <td>23.2880</td>\n",
       "      <td>8.4</td>\n",
       "    </tr>\n",
       "    <tr>\n",
       "      <th>4</th>\n",
       "      <td>373-73-7910</td>\n",
       "      <td>A</td>\n",
       "      <td>Bangalore</td>\n",
       "      <td>Normal</td>\n",
       "      <td>Male</td>\n",
       "      <td>Sports and travel</td>\n",
       "      <td>86.31</td>\n",
       "      <td>7</td>\n",
       "      <td>30.2085</td>\n",
       "      <td>634.3785</td>\n",
       "      <td>2/8/2019</td>\n",
       "      <td>10:37</td>\n",
       "      <td>Debit card</td>\n",
       "      <td>604.17</td>\n",
       "      <td>30.2085</td>\n",
       "      <td>5.3</td>\n",
       "    </tr>\n",
       "    <tr>\n",
       "      <th>5</th>\n",
       "      <td>699-14-3026</td>\n",
       "      <td>C</td>\n",
       "      <td>Mysore</td>\n",
       "      <td>Normal</td>\n",
       "      <td>Male</td>\n",
       "      <td>Electronic accessories</td>\n",
       "      <td>85.39</td>\n",
       "      <td>7</td>\n",
       "      <td>29.8865</td>\n",
       "      <td>627.6165</td>\n",
       "      <td>3/25/2019</td>\n",
       "      <td>18:30</td>\n",
       "      <td>Debit card</td>\n",
       "      <td>597.73</td>\n",
       "      <td>29.8865</td>\n",
       "      <td>4.1</td>\n",
       "    </tr>\n",
       "    <tr>\n",
       "      <th>6</th>\n",
       "      <td>355-53-5943</td>\n",
       "      <td>A</td>\n",
       "      <td>Bangalore</td>\n",
       "      <td>Member</td>\n",
       "      <td>Female</td>\n",
       "      <td>Electronic accessories</td>\n",
       "      <td>68.84</td>\n",
       "      <td>6</td>\n",
       "      <td>20.6520</td>\n",
       "      <td>433.6920</td>\n",
       "      <td>2/25/2019</td>\n",
       "      <td>14:36</td>\n",
       "      <td>Debit card</td>\n",
       "      <td>413.04</td>\n",
       "      <td>20.6520</td>\n",
       "      <td>5.8</td>\n",
       "    </tr>\n",
       "    <tr>\n",
       "      <th>7</th>\n",
       "      <td>315-22-5665</td>\n",
       "      <td>C</td>\n",
       "      <td>Mysore</td>\n",
       "      <td>Normal</td>\n",
       "      <td>Female</td>\n",
       "      <td>Home and lifestyle</td>\n",
       "      <td>73.56</td>\n",
       "      <td>10</td>\n",
       "      <td>36.7800</td>\n",
       "      <td>772.3800</td>\n",
       "      <td>2/24/2019</td>\n",
       "      <td>11:38</td>\n",
       "      <td>Debit card</td>\n",
       "      <td>735.60</td>\n",
       "      <td>36.7800</td>\n",
       "      <td>8.0</td>\n",
       "    </tr>\n",
       "    <tr>\n",
       "      <th>8</th>\n",
       "      <td>665-32-9167</td>\n",
       "      <td>A</td>\n",
       "      <td>Bangalore</td>\n",
       "      <td>Member</td>\n",
       "      <td>Female</td>\n",
       "      <td>Health and beauty</td>\n",
       "      <td>36.26</td>\n",
       "      <td>2</td>\n",
       "      <td>3.6260</td>\n",
       "      <td>76.1460</td>\n",
       "      <td>1/10/2019</td>\n",
       "      <td>17:15</td>\n",
       "      <td>Credit card</td>\n",
       "      <td>72.52</td>\n",
       "      <td>3.6260</td>\n",
       "      <td>7.2</td>\n",
       "    </tr>\n",
       "    <tr>\n",
       "      <th>9</th>\n",
       "      <td>692-92-5582</td>\n",
       "      <td>B</td>\n",
       "      <td>Mangalore</td>\n",
       "      <td>Member</td>\n",
       "      <td>Female</td>\n",
       "      <td>Food and beverages</td>\n",
       "      <td>54.84</td>\n",
       "      <td>3</td>\n",
       "      <td>8.2260</td>\n",
       "      <td>172.7460</td>\n",
       "      <td>2/20/2019</td>\n",
       "      <td>13:27</td>\n",
       "      <td>Credit card</td>\n",
       "      <td>164.52</td>\n",
       "      <td>8.2260</td>\n",
       "      <td>5.9</td>\n",
       "    </tr>\n",
       "  </tbody>\n",
       "</table>\n",
       "</div>"
      ],
      "text/plain": [
       "    Invoice ID Branch       City Customer Type  Gender  \\\n",
       "0  750-67-8428      A  Bangalore        Member  Female   \n",
       "1  226-31-3081      C     Mysore        Normal  Female   \n",
       "2  631-41-3108      A  Bangalore        Normal    Male   \n",
       "3  123-19-1176      A  Bangalore        Member    Male   \n",
       "4  373-73-7910      A  Bangalore        Normal    Male   \n",
       "5  699-14-3026      C     Mysore        Normal    Male   \n",
       "6  355-53-5943      A  Bangalore        Member  Female   \n",
       "7  315-22-5665      C     Mysore        Normal  Female   \n",
       "8  665-32-9167      A  Bangalore        Member  Female   \n",
       "9  692-92-5582      B  Mangalore        Member  Female   \n",
       "\n",
       "             Product Type  Unit Price  Quantity     Tax   Selling Price  \\\n",
       "0       Health and beauty       74.69         7  26.1415       548.9715   \n",
       "1  Electronic accessories       15.28         5   3.8200        80.2200   \n",
       "2      Home and lifestyle       46.33         7  16.2155       340.5255   \n",
       "3       Health and beauty       58.22         8  23.2880       489.0480   \n",
       "4       Sports and travel       86.31         7  30.2085       634.3785   \n",
       "5  Electronic accessories       85.39         7  29.8865       627.6165   \n",
       "6  Electronic accessories       68.84         6  20.6520       433.6920   \n",
       "7      Home and lifestyle       73.56        10  36.7800       772.3800   \n",
       "8       Health and beauty       36.26         2   3.6260        76.1460   \n",
       "9      Food and beverages       54.84         3   8.2260       172.7460   \n",
       "\n",
       "        Date   Time Payment Type  Cost Price  Gross Income  Rating  \n",
       "0   1/5/2019  13:08   Debit card      522.83       26.1415     9.1  \n",
       "1   3/8/2019  10:29         Cash       76.40        3.8200     9.6  \n",
       "2   3/3/2019  13:23  Credit card      324.31       16.2155     7.4  \n",
       "3  1/27/2019  20:33   Debit card      465.76       23.2880     8.4  \n",
       "4   2/8/2019  10:37   Debit card      604.17       30.2085     5.3  \n",
       "5  3/25/2019  18:30   Debit card      597.73       29.8865     4.1  \n",
       "6  2/25/2019  14:36   Debit card      413.04       20.6520     5.8  \n",
       "7  2/24/2019  11:38   Debit card      735.60       36.7800     8.0  \n",
       "8  1/10/2019  17:15  Credit card       72.52        3.6260     7.2  \n",
       "9  2/20/2019  13:27  Credit card      164.52        8.2260     5.9  "
      ]
     },
     "execution_count": 5,
     "metadata": {},
     "output_type": "execute_result"
    }
   ],
   "source": [
    "data.head(10)"
   ]
  },
  {
   "cell_type": "markdown",
   "metadata": {},
   "source": [
    "#### Check the schema of CSV"
   ]
  },
  {
   "cell_type": "code",
   "execution_count": 6,
   "metadata": {},
   "outputs": [
    {
     "name": "stdout",
     "output_type": "stream",
     "text": [
      "<class 'pandas.core.frame.DataFrame'>\n",
      "RangeIndex: 1000 entries, 0 to 999\n",
      "Data columns (total 16 columns):\n",
      " #   Column         Non-Null Count  Dtype  \n",
      "---  ------         --------------  -----  \n",
      " 0   Invoice ID     1000 non-null   object \n",
      " 1   Branch         1000 non-null   object \n",
      " 2   City           1000 non-null   object \n",
      " 3   Customer Type  1000 non-null   object \n",
      " 4   Gender         1000 non-null   object \n",
      " 5   Product Type   1000 non-null   object \n",
      " 6   Unit Price     1000 non-null   float64\n",
      " 7   Quantity       1000 non-null   int64  \n",
      " 8   Tax            1000 non-null   float64\n",
      " 9   Selling Price  1000 non-null   float64\n",
      " 10  Date           1000 non-null   object \n",
      " 11  Time           1000 non-null   object \n",
      " 12  Payment Type   1000 non-null   object \n",
      " 13  Cost Price     1000 non-null   float64\n",
      " 14  Gross Income   1000 non-null   float64\n",
      " 15  Rating         1000 non-null   float64\n",
      "dtypes: float64(6), int64(1), object(9)\n",
      "memory usage: 125.1+ KB\n"
     ]
    }
   ],
   "source": [
    "data.info()"
   ]
  },
  {
   "cell_type": "markdown",
   "metadata": {},
   "source": [
    "There are 16 columns, note that Date and Time columns are \"object\". We will convert them later."
   ]
  },
  {
   "cell_type": "markdown",
   "metadata": {},
   "source": [
    "# Data wrangling"
   ]
  },
  {
   "cell_type": "code",
   "execution_count": 7,
   "metadata": {},
   "outputs": [
    {
     "data": {
      "text/plain": [
       "Invoice ID       0\n",
       "Branch           0\n",
       "City             0\n",
       "Customer Type    0\n",
       "Gender           0\n",
       "Product Type     0\n",
       "Unit Price       0\n",
       "Quantity         0\n",
       "Tax              0\n",
       "Selling Price    0\n",
       "Date             0\n",
       "Time             0\n",
       "Payment Type     0\n",
       "Cost Price       0\n",
       "Gross Income     0\n",
       "Rating           0\n",
       "dtype: int64"
      ]
     },
     "execution_count": 7,
     "metadata": {},
     "output_type": "execute_result"
    }
   ],
   "source": [
    "data.isna().sum() #To see the missing values\n",
    "#check if missing values are present \n",
    "#to display boolean values for missing values"
   ]
  },
  {
   "cell_type": "markdown",
   "metadata": {},
   "source": [
    "there are no missing values"
   ]
  },
  {
   "cell_type": "code",
   "execution_count": 8,
   "metadata": {},
   "outputs": [
    {
     "data": {
      "text/plain": [
       "0"
      ]
     },
     "execution_count": 8,
     "metadata": {},
     "output_type": "execute_result"
    }
   ],
   "source": [
    "data.duplicated().sum() #returns duplicated value"
   ]
  },
  {
   "cell_type": "markdown",
   "metadata": {},
   "source": [
    "there are no duplicate values"
   ]
  },
  {
   "cell_type": "code",
   "execution_count": 9,
   "metadata": {},
   "outputs": [
    {
     "data": {
      "text/plain": [
       "<AxesSubplot:>"
      ]
     },
     "execution_count": 9,
     "metadata": {},
     "output_type": "execute_result"
    },
    {
     "data": {
      "image/png": "[encoded data removed]",
      "text/plain": [
       "<Figure size 432x288 with 1 Axes>"
      ]
     },
     "metadata": {
      "needs_background": "light"
     },
     "output_type": "display_data"
    }
   ],
   "source": [
    "sns.heatmap(data.isnull(), cbar = False) # capturing null values"
   ]
  },
  {
   "cell_type": "markdown",
   "metadata": {},
   "source": [
    "#### Sales across Branches"
   ]
  },
  {
   "cell_type": "code",
   "execution_count": 10,
   "metadata": {},
   "outputs": [
    {
     "data": {
      "image/png": "[encoded data removed]",
      "text/plain": [
       "<Figure size 864x576 with 1 Axes>"
      ]
     },
     "metadata": {},
     "output_type": "display_data"
    }
   ],
   "source": [
    "plt.figure(figsize = (12,8))\n",
    "sns.set_theme(style=\"darkgrid\")\n",
    "Branch = data.Branch.value_counts().reset_index()\n",
    "plt.pie(Branch.Branch, labels = Branch['index'],autopct='%1.1f%%')\n",
    "plt.title(\"Sales across Branches\")\n",
    "plt.show()\n"
   ]
  },
  {
   "cell_type": "markdown",
   "metadata": {},
   "source": [
    "Branch A does most of the sales"
   ]
  },
  {
   "cell_type": "markdown",
   "metadata": {},
   "source": [
    "#### Sales from different genders"
   ]
  },
  {
   "cell_type": "code",
   "execution_count": 11,
   "metadata": {},
   "outputs": [
    {
     "data": {
      "image/png": "[encoded data removed]",
      "text/plain": [
       "<Figure size 864x576 with 1 Axes>"
      ]
     },
     "metadata": {},
     "output_type": "display_data"
    }
   ],
   "source": [
    "plt.figure(figsize = (12,8))\n",
    "sns.set_theme(style=\"darkgrid\")\n",
    "Gender = data.Gender.value_counts().reset_index()\n",
    "plt.pie(Gender.Gender, labels = Gender['index'],autopct='%1.1f%%')\n",
    "plt.title(\"Sales from different Genders\")\n",
    "plt.show()"
   ]
  },
  {
   "cell_type": "markdown",
   "metadata": {},
   "source": [
    "The ratio of male and female customer is almost same, female is 0.1% higher."
   ]
  },
  {
   "cell_type": "markdown",
   "metadata": {},
   "source": [
    "#### Sales by product type"
   ]
  },
  {
   "cell_type": "code",
   "execution_count": 12,
   "metadata": {
    "scrolled": false
   },
   "outputs": [
    {
     "data": {
      "image/png": "[encoded data removed]",
      "text/plain": [
       "<Figure size 864x576 with 1 Axes>"
      ]
     },
     "metadata": {},
     "output_type": "display_data"
    }
   ],
   "source": [
    "plt.figure(figsize = (12,8))\n",
    "sns.set_theme(style=\"darkgrid\")\n",
    "\n",
    "Product = data.groupby('Product Type').size().to_frame(name = \"count\").reset_index()\n",
    "ax =sns.barplot(y = 'count', x='Product Type', data = Product )\n",
    "ax.bar_label(ax.containers[0])\n",
    "plt.title(\"Sales of Products Types\")\n",
    "plt.xlabel(\"Product Types\")\n",
    "plt.ylabel(\"Count\")\n",
    "\n",
    "plt.show()"
   ]
  },
  {
   "cell_type": "markdown",
   "metadata": {},
   "source": [
    "Fasion accessories are the most sold product"
   ]
  },
  {
   "cell_type": "markdown",
   "metadata": {},
   "source": [
    "#### General Histogram"
   ]
  },
  {
   "cell_type": "code",
   "execution_count": 13,
   "metadata": {},
   "outputs": [
    {
     "data": {
      "image/png": "[encoded data removed]",
      "text/plain": [
       "<Figure size 1152x1008 with 9 Axes>"
      ]
     },
     "metadata": {},
     "output_type": "display_data"
    }
   ],
   "source": [
    "data.hist(figsize=(16,14))\n",
    "plt.show()"
   ]
  },
  {
   "cell_type": "markdown",
   "metadata": {},
   "source": [
    "# Objective 1) Which city has a better sale for products in Electronic Accessories product line"
   ]
  },
  {
   "cell_type": "markdown",
   "metadata": {},
   "source": [
    "Find out in which city EA prodcuts are sold most"
   ]
  },
  {
   "cell_type": "code",
   "execution_count": 14,
   "metadata": {},
   "outputs": [
    {
     "data": {
      "image/png": "[encoded data removed]",
      "text/plain": [
       "<Figure size 864x576 with 1 Axes>"
      ]
     },
     "metadata": {},
     "output_type": "display_data"
    }
   ],
   "source": [
    "dataframe = data[['Product Type', 'City']]\n",
    "electronicaccessories = dataframe.loc[(dataframe['Product Type'] == \"Electronic accessories\")]\n",
    "plt.figure(figsize = (12,8))\n",
    "sns.set_theme(style=\"darkgrid\")\n",
    "sns.countplot(y ='Product Type', hue = \"City\", data = electronicaccessories) \n",
    "plt.xlabel('Count')\n",
    "plt.ylabel('Product Type')\n",
    "plt.show()"
   ]
  },
  {
   "cell_type": "markdown",
   "metadata": {},
   "source": [
    "The plot shows that, Electornic accessories products are highest sold at Bangalore city"
   ]
  },
  {
   "cell_type": "markdown",
   "metadata": {},
   "source": [
    "# Objective 2) Which payment method is used more often at a particular city, branch and for which product type"
   ]
  },
  {
   "cell_type": "markdown",
   "metadata": {},
   "source": [
    "### Branch"
   ]
  },
  {
   "cell_type": "markdown",
   "metadata": {},
   "source": [
    "Find out which payment method is popular at each <b>Branch</b>"
   ]
  },
  {
   "cell_type": "code",
   "execution_count": 15,
   "metadata": {},
   "outputs": [
    {
     "data": {
      "image/png": "[encoded data removed]",
      "text/plain": [
       "<Figure size 864x576 with 1 Axes>"
      ]
     },
     "metadata": {},
     "output_type": "display_data"
    }
   ],
   "source": [
    "plt.figure(figsize = (12,8))\n",
    "sns.set_theme(style=\"darkgrid\")\n",
    "sns.countplot(x ='Payment Type', hue = \"Branch\", data = data).set_title(\"Payment type by Branch\")\n",
    "plt.xlabel('Payment Type')\n",
    "plt.ylabel('Count')\n",
    "plt.show()"
   ]
  },
  {
   "cell_type": "markdown",
   "metadata": {},
   "source": [
    "The plot shows that, the most popular payment method at each branch is:-\n",
    "* Branch-A = Debit card\n",
    "* Branch-B = Cash\n",
    "* Branch-C = Debit card"
   ]
  },
  {
   "cell_type": "markdown",
   "metadata": {},
   "source": [
    "Some inferences: People in Branch-B prefer cash payment over card payments"
   ]
  },
  {
   "cell_type": "markdown",
   "metadata": {},
   "source": [
    "### City"
   ]
  },
  {
   "cell_type": "markdown",
   "metadata": {},
   "source": [
    "Find out which payment method is popular at each <b>City</b>"
   ]
  },
  {
   "cell_type": "code",
   "execution_count": 16,
   "metadata": {},
   "outputs": [
    {
     "data": {
      "image/png": "[encoded data removed]",
      "text/plain": [
       "<Figure size 864x576 with 1 Axes>"
      ]
     },
     "metadata": {},
     "output_type": "display_data"
    }
   ],
   "source": [
    "plt.figure(figsize = (12,8))\n",
    "sns.set_theme(style=\"darkgrid\")\n",
    "sns.countplot(x ='Payment Type', hue = \"City\", data = data) \n",
    "plt.xlabel('Payment Type')\n",
    "plt.ylabel('Count')\n",
    "plt.show()"
   ]
  },
  {
   "cell_type": "markdown",
   "metadata": {},
   "source": [
    "The plot shows that, the most popular payment method at each city is:-\n",
    "* Bangalore = Debit card\n",
    "* Mysore = Cash\n",
    "* Mangalore = Debit card"
   ]
  },
  {
   "cell_type": "markdown",
   "metadata": {},
   "source": [
    "Some inferences: People in Mysore prefer cash payment over card payments"
   ]
  },
  {
   "cell_type": "markdown",
   "metadata": {},
   "source": [
    "### Product Type"
   ]
  },
  {
   "cell_type": "markdown",
   "metadata": {},
   "source": [
    "Find out which Payment Type is popular for each <b>Product Type</b>"
   ]
  },
  {
   "cell_type": "code",
   "execution_count": 17,
   "metadata": {},
   "outputs": [
    {
     "data": {
      "image/png": "[encoded data removed]",
      "text/plain": [
       "<Figure size 864x576 with 1 Axes>"
      ]
     },
     "metadata": {},
     "output_type": "display_data"
    }
   ],
   "source": [
    "plt.figure(figsize = (12,8))\n",
    "sns.set_theme(style=\"darkgrid\")\n",
    "sns.countplot(y ='Product Type', hue = \"Payment Type\", data = data) \n",
    "plt.xlabel('Count')\n",
    "plt.ylabel('Product Type')\n",
    "plt.show()"
   ]
  },
  {
   "cell_type": "markdown",
   "metadata": {},
   "source": [
    "The plot shows that, the most popular payment method for each product type is:-\n",
    "* Health & Beauty = Debit card\n",
    "* Electronic accessories = Cash\n",
    "* Home and lifestyle = Debit card\n",
    "* Sports and travel = Cash\n",
    "* Food and beverages = Credit card\n",
    "* Fashion accessories = Debit card"
   ]
  },
  {
   "cell_type": "markdown",
   "metadata": {},
   "source": [
    "Some inferences: People prefer to pay by Credit card for Food and beverages and Cash for Electronics accessories"
   ]
  },
  {
   "cell_type": "markdown",
   "metadata": {},
   "source": [
    "# Objective 3) Which product type has been more purchased by female customers"
   ]
  },
  {
   "cell_type": "code",
   "execution_count": 18,
   "metadata": {},
   "outputs": [
    {
     "data": {
      "image/png": "[encoded data removed]",
      "text/plain": [
       "<Figure size 864x576 with 1 Axes>"
      ]
     },
     "metadata": {},
     "output_type": "display_data"
    }
   ],
   "source": [
    "plt.figure(figsize = (12,8))\n",
    "sns.set_theme(style=\"darkgrid\")\n",
    "sns.countplot(y ='Product Type', hue = \"Gender\", data = data) \n",
    "plt.xlabel('Count')\n",
    "plt.ylabel('Product Type')\n",
    "plt.show()"
   ]
  },
  {
   "cell_type": "markdown",
   "metadata": {},
   "source": [
    "The plot shows that:-\n",
    "* Females are buying fashion accessories products the most\n",
    "    * followed by food and beverages and sports and travel\n",
    "* Whereas males are buying health and beatuy products the most\n",
    "    * followed by electronic accessories"
   ]
  },
  {
   "cell_type": "markdown",
   "metadata": {},
   "source": [
    "# Objective 4) In which month does the highest number of home and lifestyle products have been sold"
   ]
  },
  {
   "cell_type": "markdown",
   "metadata": {},
   "source": [
    "### Prerequisite - add date and hour column"
   ]
  },
  {
   "cell_type": "markdown",
   "metadata": {},
   "source": [
    "We are going to add a new column called 'date' into the existing data schema\n",
    "The existing \"Date\" column is of type object. And we are adding a \"datetime64\" type.\n",
    "In this section we are going to add total 5 columns - date, day, month, year, hour."
   ]
  },
  {
   "cell_type": "code",
   "execution_count": 19,
   "metadata": {},
   "outputs": [],
   "source": [
    "data['date'] = pd.to_datetime(data['Date'])"
   ]
  },
  {
   "cell_type": "code",
   "execution_count": 20,
   "metadata": {},
   "outputs": [
    {
     "data": {
      "text/plain": [
       "dtype('<M8[ns]')"
      ]
     },
     "execution_count": 20,
     "metadata": {},
     "output_type": "execute_result"
    }
   ],
   "source": [
    "data['date'].dtype"
   ]
  },
  {
   "cell_type": "code",
   "execution_count": 21,
   "metadata": {},
   "outputs": [
    {
     "data": {
      "text/plain": [
       "pandas.core.series.Series"
      ]
     },
     "execution_count": 21,
     "metadata": {},
     "output_type": "execute_result"
    }
   ],
   "source": [
    "type(data['date'])"
   ]
  },
  {
   "cell_type": "code",
   "execution_count": 22,
   "metadata": {},
   "outputs": [],
   "source": [
    "data['date'] = pd.to_datetime(data['date'])"
   ]
  },
  {
   "cell_type": "code",
   "execution_count": 23,
   "metadata": {},
   "outputs": [
    {
     "name": "stdout",
     "output_type": "stream",
     "text": [
      "<class 'pandas.core.frame.DataFrame'>\n",
      "RangeIndex: 1000 entries, 0 to 999\n",
      "Data columns (total 17 columns):\n",
      " #   Column         Non-Null Count  Dtype         \n",
      "---  ------         --------------  -----         \n",
      " 0   Invoice ID     1000 non-null   object        \n",
      " 1   Branch         1000 non-null   object        \n",
      " 2   City           1000 non-null   object        \n",
      " 3   Customer Type  1000 non-null   object        \n",
      " 4   Gender         1000 non-null   object        \n",
      " 5   Product Type   1000 non-null   object        \n",
      " 6   Unit Price     1000 non-null   float64       \n",
      " 7   Quantity       1000 non-null   int64         \n",
      " 8   Tax            1000 non-null   float64       \n",
      " 9   Selling Price  1000 non-null   float64       \n",
      " 10  Date           1000 non-null   object        \n",
      " 11  Time           1000 non-null   object        \n",
      " 12  Payment Type   1000 non-null   object        \n",
      " 13  Cost Price     1000 non-null   float64       \n",
      " 14  Gross Income   1000 non-null   float64       \n",
      " 15  Rating         1000 non-null   float64       \n",
      " 16  date           1000 non-null   datetime64[ns]\n",
      "dtypes: datetime64[ns](1), float64(6), int64(1), object(9)\n",
      "memory usage: 132.9+ KB\n"
     ]
    }
   ],
   "source": [
    "data.info()"
   ]
  },
  {
   "cell_type": "markdown",
   "metadata": {},
   "source": [
    "16th column is newly inserted, lets check it out"
   ]
  },
  {
   "cell_type": "code",
   "execution_count": 24,
   "metadata": {},
   "outputs": [
    {
     "data": {
      "text/html": [
       "<div>\n",
       "<style scoped>\n",
       "    .dataframe tbody tr th:only-of-type {\n",
       "        vertical-align: middle;\n",
       "    }\n",
       "\n",
       "    .dataframe tbody tr th {\n",
       "        vertical-align: top;\n",
       "    }\n",
       "\n",
       "    .dataframe thead th {\n",
       "        text-align: right;\n",
       "    }\n",
       "</style>\n",
       "<table border=\"1\" class=\"dataframe\">\n",
       "  <thead>\n",
       "    <tr style=\"text-align: right;\">\n",
       "      <th></th>\n",
       "      <th>Invoice ID</th>\n",
       "      <th>Branch</th>\n",
       "      <th>City</th>\n",
       "      <th>Customer Type</th>\n",
       "      <th>Gender</th>\n",
       "      <th>Product Type</th>\n",
       "      <th>Unit Price</th>\n",
       "      <th>Quantity</th>\n",
       "      <th>Tax</th>\n",
       "      <th>Selling Price</th>\n",
       "      <th>Date</th>\n",
       "      <th>Time</th>\n",
       "      <th>Payment Type</th>\n",
       "      <th>Cost Price</th>\n",
       "      <th>Gross Income</th>\n",
       "      <th>Rating</th>\n",
       "      <th>date</th>\n",
       "    </tr>\n",
       "  </thead>\n",
       "  <tbody>\n",
       "    <tr>\n",
       "      <th>0</th>\n",
       "      <td>750-67-8428</td>\n",
       "      <td>A</td>\n",
       "      <td>Bangalore</td>\n",
       "      <td>Member</td>\n",
       "      <td>Female</td>\n",
       "      <td>Health and beauty</td>\n",
       "      <td>74.69</td>\n",
       "      <td>7</td>\n",
       "      <td>26.1415</td>\n",
       "      <td>548.9715</td>\n",
       "      <td>1/5/2019</td>\n",
       "      <td>13:08</td>\n",
       "      <td>Debit card</td>\n",
       "      <td>522.83</td>\n",
       "      <td>26.1415</td>\n",
       "      <td>9.1</td>\n",
       "      <td>2019-01-05</td>\n",
       "    </tr>\n",
       "    <tr>\n",
       "      <th>1</th>\n",
       "      <td>226-31-3081</td>\n",
       "      <td>C</td>\n",
       "      <td>Mysore</td>\n",
       "      <td>Normal</td>\n",
       "      <td>Female</td>\n",
       "      <td>Electronic accessories</td>\n",
       "      <td>15.28</td>\n",
       "      <td>5</td>\n",
       "      <td>3.8200</td>\n",
       "      <td>80.2200</td>\n",
       "      <td>3/8/2019</td>\n",
       "      <td>10:29</td>\n",
       "      <td>Cash</td>\n",
       "      <td>76.40</td>\n",
       "      <td>3.8200</td>\n",
       "      <td>9.6</td>\n",
       "      <td>2019-03-08</td>\n",
       "    </tr>\n",
       "    <tr>\n",
       "      <th>2</th>\n",
       "      <td>631-41-3108</td>\n",
       "      <td>A</td>\n",
       "      <td>Bangalore</td>\n",
       "      <td>Normal</td>\n",
       "      <td>Male</td>\n",
       "      <td>Home and lifestyle</td>\n",
       "      <td>46.33</td>\n",
       "      <td>7</td>\n",
       "      <td>16.2155</td>\n",
       "      <td>340.5255</td>\n",
       "      <td>3/3/2019</td>\n",
       "      <td>13:23</td>\n",
       "      <td>Credit card</td>\n",
       "      <td>324.31</td>\n",
       "      <td>16.2155</td>\n",
       "      <td>7.4</td>\n",
       "      <td>2019-03-03</td>\n",
       "    </tr>\n",
       "    <tr>\n",
       "      <th>3</th>\n",
       "      <td>123-19-1176</td>\n",
       "      <td>A</td>\n",
       "      <td>Bangalore</td>\n",
       "      <td>Member</td>\n",
       "      <td>Male</td>\n",
       "      <td>Health and beauty</td>\n",
       "      <td>58.22</td>\n",
       "      <td>8</td>\n",
       "      <td>23.2880</td>\n",
       "      <td>489.0480</td>\n",
       "      <td>1/27/2019</td>\n",
       "      <td>20:33</td>\n",
       "      <td>Debit card</td>\n",
       "      <td>465.76</td>\n",
       "      <td>23.2880</td>\n",
       "      <td>8.4</td>\n",
       "      <td>2019-01-27</td>\n",
       "    </tr>\n",
       "    <tr>\n",
       "      <th>4</th>\n",
       "      <td>373-73-7910</td>\n",
       "      <td>A</td>\n",
       "      <td>Bangalore</td>\n",
       "      <td>Normal</td>\n",
       "      <td>Male</td>\n",
       "      <td>Sports and travel</td>\n",
       "      <td>86.31</td>\n",
       "      <td>7</td>\n",
       "      <td>30.2085</td>\n",
       "      <td>634.3785</td>\n",
       "      <td>2/8/2019</td>\n",
       "      <td>10:37</td>\n",
       "      <td>Debit card</td>\n",
       "      <td>604.17</td>\n",
       "      <td>30.2085</td>\n",
       "      <td>5.3</td>\n",
       "      <td>2019-02-08</td>\n",
       "    </tr>\n",
       "  </tbody>\n",
       "</table>\n",
       "</div>"
      ],
      "text/plain": [
       "    Invoice ID Branch       City Customer Type  Gender  \\\n",
       "0  750-67-8428      A  Bangalore        Member  Female   \n",
       "1  226-31-3081      C     Mysore        Normal  Female   \n",
       "2  631-41-3108      A  Bangalore        Normal    Male   \n",
       "3  123-19-1176      A  Bangalore        Member    Male   \n",
       "4  373-73-7910      A  Bangalore        Normal    Male   \n",
       "\n",
       "             Product Type  Unit Price  Quantity     Tax   Selling Price  \\\n",
       "0       Health and beauty       74.69         7  26.1415       548.9715   \n",
       "1  Electronic accessories       15.28         5   3.8200        80.2200   \n",
       "2      Home and lifestyle       46.33         7  16.2155       340.5255   \n",
       "3       Health and beauty       58.22         8  23.2880       489.0480   \n",
       "4       Sports and travel       86.31         7  30.2085       634.3785   \n",
       "\n",
       "        Date   Time Payment Type  Cost Price  Gross Income  Rating       date  \n",
       "0   1/5/2019  13:08   Debit card      522.83       26.1415     9.1 2019-01-05  \n",
       "1   3/8/2019  10:29         Cash       76.40        3.8200     9.6 2019-03-08  \n",
       "2   3/3/2019  13:23  Credit card      324.31       16.2155     7.4 2019-03-03  \n",
       "3  1/27/2019  20:33   Debit card      465.76       23.2880     8.4 2019-01-27  \n",
       "4   2/8/2019  10:37   Debit card      604.17       30.2085     5.3 2019-02-08  "
      ]
     },
     "execution_count": 24,
     "metadata": {},
     "output_type": "execute_result"
    }
   ],
   "source": [
    "data.head()"
   ]
  },
  {
   "cell_type": "code",
   "execution_count": 25,
   "metadata": {},
   "outputs": [],
   "source": [
    "data['day'] = (data['date']).dt.day\n",
    "data['month'] = (data['date']).dt.month\n",
    "data['year'] = (data['date']).dt.year"
   ]
  },
  {
   "cell_type": "code",
   "execution_count": 26,
   "metadata": {},
   "outputs": [
    {
     "data": {
      "text/html": [
       "<div>\n",
       "<style scoped>\n",
       "    .dataframe tbody tr th:only-of-type {\n",
       "        vertical-align: middle;\n",
       "    }\n",
       "\n",
       "    .dataframe tbody tr th {\n",
       "        vertical-align: top;\n",
       "    }\n",
       "\n",
       "    .dataframe thead th {\n",
       "        text-align: right;\n",
       "    }\n",
       "</style>\n",
       "<table border=\"1\" class=\"dataframe\">\n",
       "  <thead>\n",
       "    <tr style=\"text-align: right;\">\n",
       "      <th></th>\n",
       "      <th>Invoice ID</th>\n",
       "      <th>Branch</th>\n",
       "      <th>City</th>\n",
       "      <th>Customer Type</th>\n",
       "      <th>Gender</th>\n",
       "      <th>Product Type</th>\n",
       "      <th>Unit Price</th>\n",
       "      <th>Quantity</th>\n",
       "      <th>Tax</th>\n",
       "      <th>Selling Price</th>\n",
       "      <th>Date</th>\n",
       "      <th>Time</th>\n",
       "      <th>Payment Type</th>\n",
       "      <th>Cost Price</th>\n",
       "      <th>Gross Income</th>\n",
       "      <th>Rating</th>\n",
       "      <th>date</th>\n",
       "      <th>day</th>\n",
       "      <th>month</th>\n",
       "      <th>year</th>\n",
       "    </tr>\n",
       "  </thead>\n",
       "  <tbody>\n",
       "    <tr>\n",
       "      <th>0</th>\n",
       "      <td>750-67-8428</td>\n",
       "      <td>A</td>\n",
       "      <td>Bangalore</td>\n",
       "      <td>Member</td>\n",
       "      <td>Female</td>\n",
       "      <td>Health and beauty</td>\n",
       "      <td>74.69</td>\n",
       "      <td>7</td>\n",
       "      <td>26.1415</td>\n",
       "      <td>548.9715</td>\n",
       "      <td>1/5/2019</td>\n",
       "      <td>13:08</td>\n",
       "      <td>Debit card</td>\n",
       "      <td>522.83</td>\n",
       "      <td>26.1415</td>\n",
       "      <td>9.1</td>\n",
       "      <td>2019-01-05</td>\n",
       "      <td>5</td>\n",
       "      <td>1</td>\n",
       "      <td>2019</td>\n",
       "    </tr>\n",
       "    <tr>\n",
       "      <th>1</th>\n",
       "      <td>226-31-3081</td>\n",
       "      <td>C</td>\n",
       "      <td>Mysore</td>\n",
       "      <td>Normal</td>\n",
       "      <td>Female</td>\n",
       "      <td>Electronic accessories</td>\n",
       "      <td>15.28</td>\n",
       "      <td>5</td>\n",
       "      <td>3.8200</td>\n",
       "      <td>80.2200</td>\n",
       "      <td>3/8/2019</td>\n",
       "      <td>10:29</td>\n",
       "      <td>Cash</td>\n",
       "      <td>76.40</td>\n",
       "      <td>3.8200</td>\n",
       "      <td>9.6</td>\n",
       "      <td>2019-03-08</td>\n",
       "      <td>8</td>\n",
       "      <td>3</td>\n",
       "      <td>2019</td>\n",
       "    </tr>\n",
       "    <tr>\n",
       "      <th>2</th>\n",
       "      <td>631-41-3108</td>\n",
       "      <td>A</td>\n",
       "      <td>Bangalore</td>\n",
       "      <td>Normal</td>\n",
       "      <td>Male</td>\n",
       "      <td>Home and lifestyle</td>\n",
       "      <td>46.33</td>\n",
       "      <td>7</td>\n",
       "      <td>16.2155</td>\n",
       "      <td>340.5255</td>\n",
       "      <td>3/3/2019</td>\n",
       "      <td>13:23</td>\n",
       "      <td>Credit card</td>\n",
       "      <td>324.31</td>\n",
       "      <td>16.2155</td>\n",
       "      <td>7.4</td>\n",
       "      <td>2019-03-03</td>\n",
       "      <td>3</td>\n",
       "      <td>3</td>\n",
       "      <td>2019</td>\n",
       "    </tr>\n",
       "    <tr>\n",
       "      <th>3</th>\n",
       "      <td>123-19-1176</td>\n",
       "      <td>A</td>\n",
       "      <td>Bangalore</td>\n",
       "      <td>Member</td>\n",
       "      <td>Male</td>\n",
       "      <td>Health and beauty</td>\n",
       "      <td>58.22</td>\n",
       "      <td>8</td>\n",
       "      <td>23.2880</td>\n",
       "      <td>489.0480</td>\n",
       "      <td>1/27/2019</td>\n",
       "      <td>20:33</td>\n",
       "      <td>Debit card</td>\n",
       "      <td>465.76</td>\n",
       "      <td>23.2880</td>\n",
       "      <td>8.4</td>\n",
       "      <td>2019-01-27</td>\n",
       "      <td>27</td>\n",
       "      <td>1</td>\n",
       "      <td>2019</td>\n",
       "    </tr>\n",
       "    <tr>\n",
       "      <th>4</th>\n",
       "      <td>373-73-7910</td>\n",
       "      <td>A</td>\n",
       "      <td>Bangalore</td>\n",
       "      <td>Normal</td>\n",
       "      <td>Male</td>\n",
       "      <td>Sports and travel</td>\n",
       "      <td>86.31</td>\n",
       "      <td>7</td>\n",
       "      <td>30.2085</td>\n",
       "      <td>634.3785</td>\n",
       "      <td>2/8/2019</td>\n",
       "      <td>10:37</td>\n",
       "      <td>Debit card</td>\n",
       "      <td>604.17</td>\n",
       "      <td>30.2085</td>\n",
       "      <td>5.3</td>\n",
       "      <td>2019-02-08</td>\n",
       "      <td>8</td>\n",
       "      <td>2</td>\n",
       "      <td>2019</td>\n",
       "    </tr>\n",
       "  </tbody>\n",
       "</table>\n",
       "</div>"
      ],
      "text/plain": [
       "    Invoice ID Branch       City Customer Type  Gender  \\\n",
       "0  750-67-8428      A  Bangalore        Member  Female   \n",
       "1  226-31-3081      C     Mysore        Normal  Female   \n",
       "2  631-41-3108      A  Bangalore        Normal    Male   \n",
       "3  123-19-1176      A  Bangalore        Member    Male   \n",
       "4  373-73-7910      A  Bangalore        Normal    Male   \n",
       "\n",
       "             Product Type  Unit Price  Quantity     Tax   Selling Price  \\\n",
       "0       Health and beauty       74.69         7  26.1415       548.9715   \n",
       "1  Electronic accessories       15.28         5   3.8200        80.2200   \n",
       "2      Home and lifestyle       46.33         7  16.2155       340.5255   \n",
       "3       Health and beauty       58.22         8  23.2880       489.0480   \n",
       "4       Sports and travel       86.31         7  30.2085       634.3785   \n",
       "\n",
       "        Date   Time Payment Type  Cost Price  Gross Income  Rating       date  \\\n",
       "0   1/5/2019  13:08   Debit card      522.83       26.1415     9.1 2019-01-05   \n",
       "1   3/8/2019  10:29         Cash       76.40        3.8200     9.6 2019-03-08   \n",
       "2   3/3/2019  13:23  Credit card      324.31       16.2155     7.4 2019-03-03   \n",
       "3  1/27/2019  20:33   Debit card      465.76       23.2880     8.4 2019-01-27   \n",
       "4   2/8/2019  10:37   Debit card      604.17       30.2085     5.3 2019-02-08   \n",
       "\n",
       "   day  month  year  \n",
       "0    5      1  2019  \n",
       "1    8      3  2019  \n",
       "2    3      3  2019  \n",
       "3   27      1  2019  \n",
       "4    8      2  2019  "
      ]
     },
     "execution_count": 26,
     "metadata": {},
     "output_type": "execute_result"
    }
   ],
   "source": [
    "data.head()"
   ]
  },
  {
   "cell_type": "markdown",
   "metadata": {},
   "source": [
    "Similarly, let us add \"hour\" column too"
   ]
  },
  {
   "cell_type": "code",
   "execution_count": 27,
   "metadata": {},
   "outputs": [],
   "source": [
    "data['Time'] = pd.to_datetime(data['Time'])\n",
    "data['hour'] = (data['Time']).dt.hour"
   ]
  },
  {
   "cell_type": "markdown",
   "metadata": {},
   "source": [
    "20th column is newly inserted, lets check it out"
   ]
  },
  {
   "cell_type": "code",
   "execution_count": 28,
   "metadata": {},
   "outputs": [
    {
     "data": {
      "text/html": [
       "<div>\n",
       "<style scoped>\n",
       "    .dataframe tbody tr th:only-of-type {\n",
       "        vertical-align: middle;\n",
       "    }\n",
       "\n",
       "    .dataframe tbody tr th {\n",
       "        vertical-align: top;\n",
       "    }\n",
       "\n",
       "    .dataframe thead th {\n",
       "        text-align: right;\n",
       "    }\n",
       "</style>\n",
       "<table border=\"1\" class=\"dataframe\">\n",
       "  <thead>\n",
       "    <tr style=\"text-align: right;\">\n",
       "      <th></th>\n",
       "      <th>Invoice ID</th>\n",
       "      <th>Branch</th>\n",
       "      <th>City</th>\n",
       "      <th>Customer Type</th>\n",
       "      <th>Gender</th>\n",
       "      <th>Product Type</th>\n",
       "      <th>Unit Price</th>\n",
       "      <th>Quantity</th>\n",
       "      <th>Tax</th>\n",
       "      <th>Selling Price</th>\n",
       "      <th>...</th>\n",
       "      <th>Time</th>\n",
       "      <th>Payment Type</th>\n",
       "      <th>Cost Price</th>\n",
       "      <th>Gross Income</th>\n",
       "      <th>Rating</th>\n",
       "      <th>date</th>\n",
       "      <th>day</th>\n",
       "      <th>month</th>\n",
       "      <th>year</th>\n",
       "      <th>hour</th>\n",
       "    </tr>\n",
       "  </thead>\n",
       "  <tbody>\n",
       "    <tr>\n",
       "      <th>0</th>\n",
       "      <td>750-67-8428</td>\n",
       "      <td>A</td>\n",
       "      <td>Bangalore</td>\n",
       "      <td>Member</td>\n",
       "      <td>Female</td>\n",
       "      <td>Health and beauty</td>\n",
       "      <td>74.69</td>\n",
       "      <td>7</td>\n",
       "      <td>26.1415</td>\n",
       "      <td>548.9715</td>\n",
       "      <td>...</td>\n",
       "      <td>2022-05-01 13:08:00</td>\n",
       "      <td>Debit card</td>\n",
       "      <td>522.83</td>\n",
       "      <td>26.1415</td>\n",
       "      <td>9.1</td>\n",
       "      <td>2019-01-05</td>\n",
       "      <td>5</td>\n",
       "      <td>1</td>\n",
       "      <td>2019</td>\n",
       "      <td>13</td>\n",
       "    </tr>\n",
       "    <tr>\n",
       "      <th>1</th>\n",
       "      <td>226-31-3081</td>\n",
       "      <td>C</td>\n",
       "      <td>Mysore</td>\n",
       "      <td>Normal</td>\n",
       "      <td>Female</td>\n",
       "      <td>Electronic accessories</td>\n",
       "      <td>15.28</td>\n",
       "      <td>5</td>\n",
       "      <td>3.8200</td>\n",
       "      <td>80.2200</td>\n",
       "      <td>...</td>\n",
       "      <td>2022-05-01 10:29:00</td>\n",
       "      <td>Cash</td>\n",
       "      <td>76.40</td>\n",
       "      <td>3.8200</td>\n",
       "      <td>9.6</td>\n",
       "      <td>2019-03-08</td>\n",
       "      <td>8</td>\n",
       "      <td>3</td>\n",
       "      <td>2019</td>\n",
       "      <td>10</td>\n",
       "    </tr>\n",
       "    <tr>\n",
       "      <th>2</th>\n",
       "      <td>631-41-3108</td>\n",
       "      <td>A</td>\n",
       "      <td>Bangalore</td>\n",
       "      <td>Normal</td>\n",
       "      <td>Male</td>\n",
       "      <td>Home and lifestyle</td>\n",
       "      <td>46.33</td>\n",
       "      <td>7</td>\n",
       "      <td>16.2155</td>\n",
       "      <td>340.5255</td>\n",
       "      <td>...</td>\n",
       "      <td>2022-05-01 13:23:00</td>\n",
       "      <td>Credit card</td>\n",
       "      <td>324.31</td>\n",
       "      <td>16.2155</td>\n",
       "      <td>7.4</td>\n",
       "      <td>2019-03-03</td>\n",
       "      <td>3</td>\n",
       "      <td>3</td>\n",
       "      <td>2019</td>\n",
       "      <td>13</td>\n",
       "    </tr>\n",
       "    <tr>\n",
       "      <th>3</th>\n",
       "      <td>123-19-1176</td>\n",
       "      <td>A</td>\n",
       "      <td>Bangalore</td>\n",
       "      <td>Member</td>\n",
       "      <td>Male</td>\n",
       "      <td>Health and beauty</td>\n",
       "      <td>58.22</td>\n",
       "      <td>8</td>\n",
       "      <td>23.2880</td>\n",
       "      <td>489.0480</td>\n",
       "      <td>...</td>\n",
       "      <td>2022-05-01 20:33:00</td>\n",
       "      <td>Debit card</td>\n",
       "      <td>465.76</td>\n",
       "      <td>23.2880</td>\n",
       "      <td>8.4</td>\n",
       "      <td>2019-01-27</td>\n",
       "      <td>27</td>\n",
       "      <td>1</td>\n",
       "      <td>2019</td>\n",
       "      <td>20</td>\n",
       "    </tr>\n",
       "    <tr>\n",
       "      <th>4</th>\n",
       "      <td>373-73-7910</td>\n",
       "      <td>A</td>\n",
       "      <td>Bangalore</td>\n",
       "      <td>Normal</td>\n",
       "      <td>Male</td>\n",
       "      <td>Sports and travel</td>\n",
       "      <td>86.31</td>\n",
       "      <td>7</td>\n",
       "      <td>30.2085</td>\n",
       "      <td>634.3785</td>\n",
       "      <td>...</td>\n",
       "      <td>2022-05-01 10:37:00</td>\n",
       "      <td>Debit card</td>\n",
       "      <td>604.17</td>\n",
       "      <td>30.2085</td>\n",
       "      <td>5.3</td>\n",
       "      <td>2019-02-08</td>\n",
       "      <td>8</td>\n",
       "      <td>2</td>\n",
       "      <td>2019</td>\n",
       "      <td>10</td>\n",
       "    </tr>\n",
       "  </tbody>\n",
       "</table>\n",
       "<p>5 rows × 21 columns</p>\n",
       "</div>"
      ],
      "text/plain": [
       "    Invoice ID Branch       City Customer Type  Gender  \\\n",
       "0  750-67-8428      A  Bangalore        Member  Female   \n",
       "1  226-31-3081      C     Mysore        Normal  Female   \n",
       "2  631-41-3108      A  Bangalore        Normal    Male   \n",
       "3  123-19-1176      A  Bangalore        Member    Male   \n",
       "4  373-73-7910      A  Bangalore        Normal    Male   \n",
       "\n",
       "             Product Type  Unit Price  Quantity     Tax   Selling Price  ...  \\\n",
       "0       Health and beauty       74.69         7  26.1415       548.9715  ...   \n",
       "1  Electronic accessories       15.28         5   3.8200        80.2200  ...   \n",
       "2      Home and lifestyle       46.33         7  16.2155       340.5255  ...   \n",
       "3       Health and beauty       58.22         8  23.2880       489.0480  ...   \n",
       "4       Sports and travel       86.31         7  30.2085       634.3785  ...   \n",
       "\n",
       "                 Time Payment Type Cost Price  Gross Income  Rating  \\\n",
       "0 2022-05-01 13:08:00   Debit card     522.83       26.1415     9.1   \n",
       "1 2022-05-01 10:29:00         Cash      76.40        3.8200     9.6   \n",
       "2 2022-05-01 13:23:00  Credit card     324.31       16.2155     7.4   \n",
       "3 2022-05-01 20:33:00   Debit card     465.76       23.2880     8.4   \n",
       "4 2022-05-01 10:37:00   Debit card     604.17       30.2085     5.3   \n",
       "\n",
       "        date day  month  year  hour  \n",
       "0 2019-01-05   5      1  2019    13  \n",
       "1 2019-03-08   8      3  2019    10  \n",
       "2 2019-03-03   3      3  2019    13  \n",
       "3 2019-01-27  27      1  2019    20  \n",
       "4 2019-02-08   8      2  2019    10  \n",
       "\n",
       "[5 rows x 21 columns]"
      ]
     },
     "execution_count": 28,
     "metadata": {},
     "output_type": "execute_result"
    }
   ],
   "source": [
    "data.head()"
   ]
  },
  {
   "cell_type": "code",
   "execution_count": 29,
   "metadata": {},
   "outputs": [
    {
     "data": {
      "text/plain": [
       "array([1, 3, 2])"
      ]
     },
     "execution_count": 29,
     "metadata": {},
     "output_type": "execute_result"
    }
   ],
   "source": [
    "data['month'].unique()"
   ]
  },
  {
   "cell_type": "code",
   "execution_count": 30,
   "metadata": {},
   "outputs": [
    {
     "data": {
      "text/plain": [
       "array([13, 10, 20, 18, 14, 11, 17, 16, 19, 15, 12])"
      ]
     },
     "execution_count": 30,
     "metadata": {},
     "output_type": "execute_result"
    }
   ],
   "source": [
    "data['hour'].unique()"
   ]
  },
  {
   "cell_type": "markdown",
   "metadata": {},
   "source": [
    "### Objective 4\n",
    "Now that the month and hour data is available, let us plot it"
   ]
  },
  {
   "cell_type": "code",
   "execution_count": 31,
   "metadata": {},
   "outputs": [
    {
     "data": {
      "image/png": "[encoded data removed]",
      "text/plain": [
       "<Figure size 864x576 with 1 Axes>"
      ]
     },
     "metadata": {},
     "output_type": "display_data"
    }
   ],
   "source": [
    "dataframe = data[['Product Type', 'month', 'Quantity']]\n",
    "monthdata = dataframe.loc[(dataframe['Product Type'] == \"Home and lifestyle\")]\n",
    "plt.figure(figsize = (12,8))\n",
    "ax = sns.countplot(x='month', hue = 'Product Type', data = monthdata)\n",
    "ax.set_title(label = \"ProductType = Home & Lifestyle\")\n",
    "ax.set_xlabel(xlabel = \"Month\")\n",
    "ax.set_ylabel(ylabel = \"Quantity\")\n",
    "#for displaying value on the top of a bar\n",
    "for p in ax.patches:\n",
    "   ax.annotate('{:.1f}'.format(p.get_height()), (p.get_x()+0.25, p.get_height()+0.01))\n",
    "plt.show()"
   ]
  },
  {
   "cell_type": "markdown",
   "metadata": {},
   "source": [
    "##### The plot shows that:-\n",
    "* Quantity of \"Home and lifestyle\" products sold in the 1st and 3rd month are almost equal\n",
    "    * however, 3rd month quantity 63 is marginally greater than 1st month quantity 59"
   ]
  },
  {
   "cell_type": "markdown",
   "metadata": {},
   "source": [
    "# Objective 5) At what time most of the female customers are purchasing products"
   ]
  },
  {
   "cell_type": "markdown",
   "metadata": {},
   "source": [
    "Since we already added 'hour' in previous step, we can use that column here."
   ]
  },
  {
   "cell_type": "code",
   "execution_count": 32,
   "metadata": {},
   "outputs": [
    {
     "data": {
      "text/plain": [
       "array([13, 10, 20, 18, 14, 11, 17, 16, 19, 15, 12])"
      ]
     },
     "execution_count": 32,
     "metadata": {},
     "output_type": "execute_result"
    }
   ],
   "source": [
    "data['hour'].unique()"
   ]
  },
  {
   "cell_type": "code",
   "execution_count": 33,
   "metadata": {},
   "outputs": [
    {
     "data": {
      "image/png": "[encoded data removed]",
      "text/plain": [
       "<Figure size 864x576 with 1 Axes>"
      ]
     },
     "metadata": {},
     "output_type": "display_data"
    }
   ],
   "source": [
    "dataframe = data[['Gender', 'hour', 'Quantity']]\n",
    "hourdata = dataframe.loc[(dataframe['Gender'] == \"Female\")]\n",
    "plt.figure(figsize = (12,8))\n",
    "ax = sns.countplot(x='hour', hue='Gender', data=hourdata)\n",
    "ax.set_title(label = \"Female purchases\")\n",
    "ax.set_xlabel(xlabel = \"Hour\")\n",
    "ax.set_ylabel(ylabel = \"Quantity\")\n",
    "#for displaying value on the top of a bar\n",
    "for p in ax.patches:\n",
    "   ax.annotate('{:.1f}'.format(p.get_height()), (p.get_x()+0.25, p.get_height()+0.01))\n",
    "plt.show()"
   ]
  },
  {
   "cell_type": "markdown",
   "metadata": {},
   "source": [
    "The plot shows that:-\n",
    "* Females mostly show at 10th and 13th hour of a day\n",
    "    * Sales at 10th hour (62) is marginally higher than 13th hour (61)"
   ]
  },
  {
   "cell_type": "code",
   "execution_count": null,
   "metadata": {},
   "outputs": [],
   "source": []
  }
 ],
 "metadata": {
  "kernelspec": {
   "display_name": "Python 3 (ipykernel)",
   "language": "python",
   "name": "python3"
  },
  "language_info": {
   "codemirror_mode": {
    "name": "ipython",
    "version": 3
   },
   "file_extension": ".py",
   "mimetype": "text/x-python",
   "name": "python",
   "nbconvert_exporter": "python",
   "pygments_lexer": "ipython3",
   "version": "3.8.2"
  },
  "toc": {
   "base_numbering": 1,
   "nav_menu": {
    "height": "454px",
    "width": "706px"
   },
   "number_sections": true,
   "sideBar": true,
   "skip_h1_title": false,
   "title_cell": "Table of Contents",
   "title_sidebar": "Contents",
   "toc_cell": false,
   "toc_position": {
    "height": "calc(100% - 180px)",
    "left": "10px",
    "top": "150px",
    "width": "700px"
   },
   "toc_section_display": true,
   "toc_window_display": true
  }
 },
 "nbformat": 4,
 "nbformat_minor": 4
}
